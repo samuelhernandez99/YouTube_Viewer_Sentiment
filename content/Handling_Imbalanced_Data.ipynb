{
 "cells": [
  {
   "cell_type": "code",
   "execution_count": null,
   "id": "a858ad39",
   "metadata": {},
   "outputs": [
    {
     "name": "stdout",
     "output_type": "stream",
     "text": [
      "Requirement already satisfied: mlflow in d:\\conda\\envs\\youtube-sentiment\\lib\\site-packages (3.5.0)\n",
      "Requirement already satisfied: boto3 in d:\\conda\\envs\\youtube-sentiment\\lib\\site-packages (1.40.55)\n",
      "Requirement already satisfied: awscli in d:\\conda\\envs\\youtube-sentiment\\lib\\site-packages (1.42.55)\n",
      "Requirement already satisfied: mlflow-skinny==3.5.0 in d:\\conda\\envs\\youtube-sentiment\\lib\\site-packages (from mlflow) (3.5.0)\n",
      "Requirement already satisfied: mlflow-tracing==3.5.0 in d:\\conda\\envs\\youtube-sentiment\\lib\\site-packages (from mlflow) (3.5.0)\n",
      "Requirement already satisfied: Flask-CORS<7 in d:\\conda\\envs\\youtube-sentiment\\lib\\site-packages (from mlflow) (6.0.1)\n",
      "Requirement already satisfied: Flask<4 in d:\\conda\\envs\\youtube-sentiment\\lib\\site-packages (from mlflow) (3.1.2)\n",
      "Requirement already satisfied: alembic!=1.10.0,<2 in d:\\conda\\envs\\youtube-sentiment\\lib\\site-packages (from mlflow) (1.17.0)\n",
      "Requirement already satisfied: cryptography<47,>=43.0.0 in d:\\conda\\envs\\youtube-sentiment\\lib\\site-packages (from mlflow) (46.0.3)\n",
      "Requirement already satisfied: docker<8,>=4.0.0 in d:\\conda\\envs\\youtube-sentiment\\lib\\site-packages (from mlflow) (7.1.0)\n",
      "Requirement already satisfied: fastmcp<3,>=2.0.0 in d:\\conda\\envs\\youtube-sentiment\\lib\\site-packages (from mlflow) (2.12.5)\n",
      "Requirement already satisfied: graphene<4 in d:\\conda\\envs\\youtube-sentiment\\lib\\site-packages (from mlflow) (3.4.3)\n",
      "Requirement already satisfied: matplotlib<4 in d:\\conda\\envs\\youtube-sentiment\\lib\\site-packages (from mlflow) (3.10.7)\n",
      "Requirement already satisfied: numpy<3 in d:\\conda\\envs\\youtube-sentiment\\lib\\site-packages (from mlflow) (2.2.6)\n",
      "Requirement already satisfied: pandas<3 in d:\\conda\\envs\\youtube-sentiment\\lib\\site-packages (from mlflow) (2.3.3)\n",
      "Requirement already satisfied: pyarrow<22,>=4.0.0 in d:\\conda\\envs\\youtube-sentiment\\lib\\site-packages (from mlflow) (21.0.0)\n",
      "Requirement already satisfied: scikit-learn<2 in d:\\conda\\envs\\youtube-sentiment\\lib\\site-packages (from mlflow) (1.7.2)\n",
      "Requirement already satisfied: scipy<2 in d:\\conda\\envs\\youtube-sentiment\\lib\\site-packages (from mlflow) (1.15.3)\n",
      "Requirement already satisfied: sqlalchemy<3,>=1.4.0 in d:\\conda\\envs\\youtube-sentiment\\lib\\site-packages (from mlflow) (2.0.44)\n",
      "Requirement already satisfied: waitress<4 in d:\\conda\\envs\\youtube-sentiment\\lib\\site-packages (from mlflow) (3.0.2)\n",
      "Requirement already satisfied: cachetools<7,>=5.0.0 in d:\\conda\\envs\\youtube-sentiment\\lib\\site-packages (from mlflow-skinny==3.5.0->mlflow) (6.2.1)\n",
      "Requirement already satisfied: click<9,>=7.0 in d:\\conda\\envs\\youtube-sentiment\\lib\\site-packages (from mlflow-skinny==3.5.0->mlflow) (8.3.0)\n",
      "Requirement already satisfied: cloudpickle<4 in d:\\conda\\envs\\youtube-sentiment\\lib\\site-packages (from mlflow-skinny==3.5.0->mlflow) (3.1.1)\n",
      "Requirement already satisfied: databricks-sdk<1,>=0.20.0 in d:\\conda\\envs\\youtube-sentiment\\lib\\site-packages (from mlflow-skinny==3.5.0->mlflow) (0.68.0)\n",
      "Requirement already satisfied: fastapi<1 in d:\\conda\\envs\\youtube-sentiment\\lib\\site-packages (from mlflow-skinny==3.5.0->mlflow) (0.119.0)\n",
      "Requirement already satisfied: gitpython<4,>=3.1.9 in d:\\conda\\envs\\youtube-sentiment\\lib\\site-packages (from mlflow-skinny==3.5.0->mlflow) (3.1.45)\n",
      "Requirement already satisfied: importlib_metadata!=4.7.0,<9,>=3.7.0 in d:\\conda\\envs\\youtube-sentiment\\lib\\site-packages (from mlflow-skinny==3.5.0->mlflow) (8.7.0)\n",
      "Requirement already satisfied: opentelemetry-api<3,>=1.9.0 in d:\\conda\\envs\\youtube-sentiment\\lib\\site-packages (from mlflow-skinny==3.5.0->mlflow) (1.38.0)\n",
      "Requirement already satisfied: opentelemetry-proto<3,>=1.9.0 in d:\\conda\\envs\\youtube-sentiment\\lib\\site-packages (from mlflow-skinny==3.5.0->mlflow) (1.38.0)\n",
      "Requirement already satisfied: opentelemetry-sdk<3,>=1.9.0 in d:\\conda\\envs\\youtube-sentiment\\lib\\site-packages (from mlflow-skinny==3.5.0->mlflow) (1.38.0)\n",
      "Requirement already satisfied: packaging<26 in d:\\conda\\envs\\youtube-sentiment\\lib\\site-packages (from mlflow-skinny==3.5.0->mlflow) (25.0)\n",
      "Requirement already satisfied: protobuf<7,>=3.12.0 in d:\\conda\\envs\\youtube-sentiment\\lib\\site-packages (from mlflow-skinny==3.5.0->mlflow) (6.33.0)\n",
      "Requirement already satisfied: pydantic<3,>=1.10.8 in d:\\conda\\envs\\youtube-sentiment\\lib\\site-packages (from mlflow-skinny==3.5.0->mlflow) (2.12.3)\n",
      "Requirement already satisfied: python-dotenv<2,>=0.19.0 in d:\\conda\\envs\\youtube-sentiment\\lib\\site-packages (from mlflow-skinny==3.5.0->mlflow) (1.1.1)\n",
      "Requirement already satisfied: pyyaml<7,>=5.1 in d:\\conda\\envs\\youtube-sentiment\\lib\\site-packages (from mlflow-skinny==3.5.0->mlflow) (6.0.3)\n",
      "Requirement already satisfied: requests<3,>=2.17.3 in d:\\conda\\envs\\youtube-sentiment\\lib\\site-packages (from mlflow-skinny==3.5.0->mlflow) (2.32.5)\n",
      "Requirement already satisfied: sqlparse<1,>=0.4.0 in d:\\conda\\envs\\youtube-sentiment\\lib\\site-packages (from mlflow-skinny==3.5.0->mlflow) (0.5.3)\n",
      "Requirement already satisfied: typing-extensions<5,>=4.0.0 in d:\\conda\\envs\\youtube-sentiment\\lib\\site-packages (from mlflow-skinny==3.5.0->mlflow) (4.15.0)\n",
      "Requirement already satisfied: uvicorn<1 in d:\\conda\\envs\\youtube-sentiment\\lib\\site-packages (from mlflow-skinny==3.5.0->mlflow) (0.38.0)\n",
      "Requirement already satisfied: Mako in d:\\conda\\envs\\youtube-sentiment\\lib\\site-packages (from alembic!=1.10.0,<2->mlflow) (1.3.10)\n",
      "Requirement already satisfied: tomli in d:\\conda\\envs\\youtube-sentiment\\lib\\site-packages (from alembic!=1.10.0,<2->mlflow) (2.3.0)\n",
      "Requirement already satisfied: colorama in d:\\conda\\envs\\youtube-sentiment\\lib\\site-packages (from click<9,>=7.0->mlflow-skinny==3.5.0->mlflow) (0.4.6)\n",
      "Requirement already satisfied: cffi>=2.0.0 in d:\\conda\\envs\\youtube-sentiment\\lib\\site-packages (from cryptography<47,>=43.0.0->mlflow) (2.0.0)\n",
      "Requirement already satisfied: google-auth~=2.0 in d:\\conda\\envs\\youtube-sentiment\\lib\\site-packages (from databricks-sdk<1,>=0.20.0->mlflow-skinny==3.5.0->mlflow) (2.41.1)\n",
      "Requirement already satisfied: pywin32>=304 in d:\\conda\\envs\\youtube-sentiment\\lib\\site-packages (from docker<8,>=4.0.0->mlflow) (311)\n",
      "Requirement already satisfied: urllib3>=1.26.0 in d:\\conda\\envs\\youtube-sentiment\\lib\\site-packages (from docker<8,>=4.0.0->mlflow) (2.5.0)\n",
      "Requirement already satisfied: starlette<0.49.0,>=0.40.0 in d:\\conda\\envs\\youtube-sentiment\\lib\\site-packages (from fastapi<1->mlflow-skinny==3.5.0->mlflow) (0.48.0)\n",
      "Requirement already satisfied: authlib>=1.5.2 in d:\\conda\\envs\\youtube-sentiment\\lib\\site-packages (from fastmcp<3,>=2.0.0->mlflow) (1.6.5)\n",
      "Requirement already satisfied: cyclopts>=3.0.0 in d:\\conda\\envs\\youtube-sentiment\\lib\\site-packages (from fastmcp<3,>=2.0.0->mlflow) (3.24.0)\n",
      "Requirement already satisfied: exceptiongroup>=1.2.2 in d:\\conda\\envs\\youtube-sentiment\\lib\\site-packages (from fastmcp<3,>=2.0.0->mlflow) (1.3.0)\n",
      "Requirement already satisfied: httpx>=0.28.1 in d:\\conda\\envs\\youtube-sentiment\\lib\\site-packages (from fastmcp<3,>=2.0.0->mlflow) (0.28.1)\n",
      "Requirement already satisfied: mcp<1.17.0,>=1.12.4 in d:\\conda\\envs\\youtube-sentiment\\lib\\site-packages (from fastmcp<3,>=2.0.0->mlflow) (1.16.0)\n",
      "Requirement already satisfied: openapi-core>=0.19.5 in d:\\conda\\envs\\youtube-sentiment\\lib\\site-packages (from fastmcp<3,>=2.0.0->mlflow) (0.19.5)\n",
      "Requirement already satisfied: openapi-pydantic>=0.5.1 in d:\\conda\\envs\\youtube-sentiment\\lib\\site-packages (from fastmcp<3,>=2.0.0->mlflow) (0.5.1)\n",
      "Requirement already satisfied: pyperclip>=1.9.0 in d:\\conda\\envs\\youtube-sentiment\\lib\\site-packages (from fastmcp<3,>=2.0.0->mlflow) (1.11.0)\n",
      "Requirement already satisfied: rich>=13.9.4 in d:\\conda\\envs\\youtube-sentiment\\lib\\site-packages (from fastmcp<3,>=2.0.0->mlflow) (14.2.0)\n",
      "Requirement already satisfied: blinker>=1.9.0 in d:\\conda\\envs\\youtube-sentiment\\lib\\site-packages (from Flask<4->mlflow) (1.9.0)\n",
      "Requirement already satisfied: itsdangerous>=2.2.0 in d:\\conda\\envs\\youtube-sentiment\\lib\\site-packages (from Flask<4->mlflow) (2.2.0)\n",
      "Requirement already satisfied: jinja2>=3.1.2 in d:\\conda\\envs\\youtube-sentiment\\lib\\site-packages (from Flask<4->mlflow) (3.1.6)\n",
      "Requirement already satisfied: markupsafe>=2.1.1 in d:\\conda\\envs\\youtube-sentiment\\lib\\site-packages (from Flask<4->mlflow) (3.0.3)\n",
      "Requirement already satisfied: werkzeug>=3.1.0 in d:\\conda\\envs\\youtube-sentiment\\lib\\site-packages (from Flask<4->mlflow) (3.1.1)\n",
      "Requirement already satisfied: gitdb<5,>=4.0.1 in d:\\conda\\envs\\youtube-sentiment\\lib\\site-packages (from gitpython<4,>=3.1.9->mlflow-skinny==3.5.0->mlflow) (4.0.12)\n",
      "Requirement already satisfied: smmap<6,>=3.0.1 in d:\\conda\\envs\\youtube-sentiment\\lib\\site-packages (from gitdb<5,>=4.0.1->gitpython<4,>=3.1.9->mlflow-skinny==3.5.0->mlflow) (5.0.2)\n",
      "Requirement already satisfied: pyasn1-modules>=0.2.1 in d:\\conda\\envs\\youtube-sentiment\\lib\\site-packages (from google-auth~=2.0->databricks-sdk<1,>=0.20.0->mlflow-skinny==3.5.0->mlflow) (0.4.2)\n",
      "Requirement already satisfied: rsa<5,>=3.1.4 in d:\\conda\\envs\\youtube-sentiment\\lib\\site-packages (from google-auth~=2.0->databricks-sdk<1,>=0.20.0->mlflow-skinny==3.5.0->mlflow) (4.7.2)\n",
      "Requirement already satisfied: graphql-core<3.3,>=3.1 in d:\\conda\\envs\\youtube-sentiment\\lib\\site-packages (from graphene<4->mlflow) (3.2.6)\n",
      "Requirement already satisfied: graphql-relay<3.3,>=3.1 in d:\\conda\\envs\\youtube-sentiment\\lib\\site-packages (from graphene<4->mlflow) (3.2.0)\n",
      "Requirement already satisfied: python-dateutil<3,>=2.7.0 in d:\\conda\\envs\\youtube-sentiment\\lib\\site-packages (from graphene<4->mlflow) (2.9.0.post0)\n",
      "Requirement already satisfied: zipp>=3.20 in d:\\conda\\envs\\youtube-sentiment\\lib\\site-packages (from importlib_metadata!=4.7.0,<9,>=3.7.0->mlflow-skinny==3.5.0->mlflow) (3.23.0)\n",
      "Requirement already satisfied: contourpy>=1.0.1 in d:\\conda\\envs\\youtube-sentiment\\lib\\site-packages (from matplotlib<4->mlflow) (1.3.2)\n",
      "Requirement already satisfied: cycler>=0.10 in d:\\conda\\envs\\youtube-sentiment\\lib\\site-packages (from matplotlib<4->mlflow) (0.12.1)\n",
      "Requirement already satisfied: fonttools>=4.22.0 in d:\\conda\\envs\\youtube-sentiment\\lib\\site-packages (from matplotlib<4->mlflow) (4.60.1)\n",
      "Requirement already satisfied: kiwisolver>=1.3.1 in d:\\conda\\envs\\youtube-sentiment\\lib\\site-packages (from matplotlib<4->mlflow) (1.4.9)\n",
      "Requirement already satisfied: pillow>=8 in d:\\conda\\envs\\youtube-sentiment\\lib\\site-packages (from matplotlib<4->mlflow) (12.0.0)\n",
      "Requirement already satisfied: pyparsing>=3 in d:\\conda\\envs\\youtube-sentiment\\lib\\site-packages (from matplotlib<4->mlflow) (3.2.5)\n",
      "Requirement already satisfied: anyio>=4.5 in d:\\conda\\envs\\youtube-sentiment\\lib\\site-packages (from mcp<1.17.0,>=1.12.4->fastmcp<3,>=2.0.0->mlflow) (4.11.0)\n",
      "Requirement already satisfied: httpx-sse>=0.4 in d:\\conda\\envs\\youtube-sentiment\\lib\\site-packages (from mcp<1.17.0,>=1.12.4->fastmcp<3,>=2.0.0->mlflow) (0.4.3)\n",
      "Requirement already satisfied: jsonschema>=4.20.0 in d:\\conda\\envs\\youtube-sentiment\\lib\\site-packages (from mcp<1.17.0,>=1.12.4->fastmcp<3,>=2.0.0->mlflow) (4.25.1)\n",
      "Requirement already satisfied: pydantic-settings>=2.5.2 in d:\\conda\\envs\\youtube-sentiment\\lib\\site-packages (from mcp<1.17.0,>=1.12.4->fastmcp<3,>=2.0.0->mlflow) (2.11.0)\n",
      "Requirement already satisfied: python-multipart>=0.0.9 in d:\\conda\\envs\\youtube-sentiment\\lib\\site-packages (from mcp<1.17.0,>=1.12.4->fastmcp<3,>=2.0.0->mlflow) (0.0.20)\n",
      "Requirement already satisfied: sse-starlette>=1.6.1 in d:\\conda\\envs\\youtube-sentiment\\lib\\site-packages (from mcp<1.17.0,>=1.12.4->fastmcp<3,>=2.0.0->mlflow) (3.0.2)\n",
      "Requirement already satisfied: opentelemetry-semantic-conventions==0.59b0 in d:\\conda\\envs\\youtube-sentiment\\lib\\site-packages (from opentelemetry-sdk<3,>=1.9.0->mlflow-skinny==3.5.0->mlflow) (0.59b0)\n",
      "Requirement already satisfied: pytz>=2020.1 in d:\\conda\\envs\\youtube-sentiment\\lib\\site-packages (from pandas<3->mlflow) (2025.2)\n",
      "Requirement already satisfied: tzdata>=2022.7 in d:\\conda\\envs\\youtube-sentiment\\lib\\site-packages (from pandas<3->mlflow) (2025.2)\n",
      "Requirement already satisfied: annotated-types>=0.6.0 in d:\\conda\\envs\\youtube-sentiment\\lib\\site-packages (from pydantic<3,>=1.10.8->mlflow-skinny==3.5.0->mlflow) (0.7.0)\n",
      "Requirement already satisfied: pydantic-core==2.41.4 in d:\\conda\\envs\\youtube-sentiment\\lib\\site-packages (from pydantic<3,>=1.10.8->mlflow-skinny==3.5.0->mlflow) (2.41.4)\n",
      "Requirement already satisfied: typing-inspection>=0.4.2 in d:\\conda\\envs\\youtube-sentiment\\lib\\site-packages (from pydantic<3,>=1.10.8->mlflow-skinny==3.5.0->mlflow) (0.4.2)\n",
      "Requirement already satisfied: six>=1.5 in d:\\conda\\envs\\youtube-sentiment\\lib\\site-packages (from python-dateutil<3,>=2.7.0->graphene<4->mlflow) (1.17.0)\n",
      "Requirement already satisfied: charset_normalizer<4,>=2 in d:\\conda\\envs\\youtube-sentiment\\lib\\site-packages (from requests<3,>=2.17.3->mlflow-skinny==3.5.0->mlflow) (3.4.4)\n",
      "Requirement already satisfied: idna<4,>=2.5 in d:\\conda\\envs\\youtube-sentiment\\lib\\site-packages (from requests<3,>=2.17.3->mlflow-skinny==3.5.0->mlflow) (3.11)\n",
      "Requirement already satisfied: certifi>=2017.4.17 in d:\\conda\\envs\\youtube-sentiment\\lib\\site-packages (from requests<3,>=2.17.3->mlflow-skinny==3.5.0->mlflow) (2025.10.5)\n",
      "Requirement already satisfied: pyasn1>=0.1.3 in d:\\conda\\envs\\youtube-sentiment\\lib\\site-packages (from rsa<5,>=3.1.4->google-auth~=2.0->databricks-sdk<1,>=0.20.0->mlflow-skinny==3.5.0->mlflow) (0.6.1)\n",
      "Requirement already satisfied: joblib>=1.2.0 in d:\\conda\\envs\\youtube-sentiment\\lib\\site-packages (from scikit-learn<2->mlflow) (1.5.2)\n",
      "Requirement already satisfied: threadpoolctl>=3.1.0 in d:\\conda\\envs\\youtube-sentiment\\lib\\site-packages (from scikit-learn<2->mlflow) (3.6.0)\n",
      "Requirement already satisfied: greenlet>=1 in d:\\conda\\envs\\youtube-sentiment\\lib\\site-packages (from sqlalchemy<3,>=1.4.0->mlflow) (3.2.4)\n",
      "Requirement already satisfied: sniffio>=1.1 in d:\\conda\\envs\\youtube-sentiment\\lib\\site-packages (from anyio>=4.5->mcp<1.17.0,>=1.12.4->fastmcp<3,>=2.0.0->mlflow) (1.3.1)\n",
      "Requirement already satisfied: h11>=0.8 in d:\\conda\\envs\\youtube-sentiment\\lib\\site-packages (from uvicorn<1->mlflow-skinny==3.5.0->mlflow) (0.16.0)\n",
      "Requirement already satisfied: botocore<1.41.0,>=1.40.55 in d:\\conda\\envs\\youtube-sentiment\\lib\\site-packages (from boto3) (1.40.55)\n",
      "Requirement already satisfied: jmespath<2.0.0,>=0.7.1 in d:\\conda\\envs\\youtube-sentiment\\lib\\site-packages (from boto3) (1.0.1)\n",
      "Requirement already satisfied: s3transfer<0.15.0,>=0.14.0 in d:\\conda\\envs\\youtube-sentiment\\lib\\site-packages (from boto3) (0.14.0)\n",
      "Requirement already satisfied: docutils<=0.19,>=0.18.1 in d:\\conda\\envs\\youtube-sentiment\\lib\\site-packages (from awscli) (0.19)\n",
      "Requirement already satisfied: pycparser in d:\\conda\\envs\\youtube-sentiment\\lib\\site-packages (from cffi>=2.0.0->cryptography<47,>=43.0.0->mlflow) (2.23)\n",
      "Requirement already satisfied: attrs>=23.1.0 in d:\\conda\\envs\\youtube-sentiment\\lib\\site-packages (from cyclopts>=3.0.0->fastmcp<3,>=2.0.0->mlflow) (25.4.0)\n",
      "Requirement already satisfied: docstring-parser>=0.15 in d:\\conda\\envs\\youtube-sentiment\\lib\\site-packages (from cyclopts>=3.0.0->fastmcp<3,>=2.0.0->mlflow) (0.17.0)\n",
      "Requirement already satisfied: rich-rst<2.0.0,>=1.3.1 in d:\\conda\\envs\\youtube-sentiment\\lib\\site-packages (from cyclopts>=3.0.0->fastmcp<3,>=2.0.0->mlflow) (1.3.2)\n",
      "Requirement already satisfied: httpcore==1.* in d:\\conda\\envs\\youtube-sentiment\\lib\\site-packages (from httpx>=0.28.1->fastmcp<3,>=2.0.0->mlflow) (1.0.9)\n",
      "Requirement already satisfied: jsonschema-specifications>=2023.03.6 in d:\\conda\\envs\\youtube-sentiment\\lib\\site-packages (from jsonschema>=4.20.0->mcp<1.17.0,>=1.12.4->fastmcp<3,>=2.0.0->mlflow) (2025.9.1)\n",
      "Requirement already satisfied: referencing>=0.28.4 in d:\\conda\\envs\\youtube-sentiment\\lib\\site-packages (from jsonschema>=4.20.0->mcp<1.17.0,>=1.12.4->fastmcp<3,>=2.0.0->mlflow) (0.36.2)\n",
      "Requirement already satisfied: rpds-py>=0.7.1 in d:\\conda\\envs\\youtube-sentiment\\lib\\site-packages (from jsonschema>=4.20.0->mcp<1.17.0,>=1.12.4->fastmcp<3,>=2.0.0->mlflow) (0.27.1)\n",
      "Requirement already satisfied: isodate in d:\\conda\\envs\\youtube-sentiment\\lib\\site-packages (from openapi-core>=0.19.5->fastmcp<3,>=2.0.0->mlflow) (0.7.2)\n",
      "Requirement already satisfied: jsonschema-path<0.4.0,>=0.3.1 in d:\\conda\\envs\\youtube-sentiment\\lib\\site-packages (from openapi-core>=0.19.5->fastmcp<3,>=2.0.0->mlflow) (0.3.4)\n",
      "Requirement already satisfied: more-itertools in d:\\conda\\envs\\youtube-sentiment\\lib\\site-packages (from openapi-core>=0.19.5->fastmcp<3,>=2.0.0->mlflow) (10.8.0)\n",
      "Requirement already satisfied: openapi-schema-validator<0.7.0,>=0.6.0 in d:\\conda\\envs\\youtube-sentiment\\lib\\site-packages (from openapi-core>=0.19.5->fastmcp<3,>=2.0.0->mlflow) (0.6.3)\n",
      "Requirement already satisfied: openapi-spec-validator<0.8.0,>=0.7.1 in d:\\conda\\envs\\youtube-sentiment\\lib\\site-packages (from openapi-core>=0.19.5->fastmcp<3,>=2.0.0->mlflow) (0.7.2)\n",
      "Requirement already satisfied: parse in d:\\conda\\envs\\youtube-sentiment\\lib\\site-packages (from openapi-core>=0.19.5->fastmcp<3,>=2.0.0->mlflow) (1.20.2)\n",
      "Requirement already satisfied: pathable<0.5.0,>=0.4.1 in d:\\conda\\envs\\youtube-sentiment\\lib\\site-packages (from jsonschema-path<0.4.0,>=0.3.1->openapi-core>=0.19.5->fastmcp<3,>=2.0.0->mlflow) (0.4.4)\n",
      "Requirement already satisfied: rfc3339-validator in d:\\conda\\envs\\youtube-sentiment\\lib\\site-packages (from openapi-schema-validator<0.7.0,>=0.6.0->openapi-core>=0.19.5->fastmcp<3,>=2.0.0->mlflow) (0.1.4)\n",
      "Requirement already satisfied: lazy-object-proxy<2.0.0,>=1.7.1 in d:\\conda\\envs\\youtube-sentiment\\lib\\site-packages (from openapi-spec-validator<0.8.0,>=0.7.1->openapi-core>=0.19.5->fastmcp<3,>=2.0.0->mlflow) (1.12.0)\n",
      "Requirement already satisfied: email-validator>=2.0.0 in d:\\conda\\envs\\youtube-sentiment\\lib\\site-packages (from pydantic[email]>=2.11.7->fastmcp<3,>=2.0.0->mlflow) (2.3.0)\n",
      "Requirement already satisfied: dnspython>=2.0.0 in d:\\conda\\envs\\youtube-sentiment\\lib\\site-packages (from email-validator>=2.0.0->pydantic[email]>=2.11.7->fastmcp<3,>=2.0.0->mlflow) (2.8.0)\n",
      "Requirement already satisfied: markdown-it-py>=2.2.0 in d:\\conda\\envs\\youtube-sentiment\\lib\\site-packages (from rich>=13.9.4->fastmcp<3,>=2.0.0->mlflow) (4.0.0)\n",
      "Requirement already satisfied: pygments<3.0.0,>=2.13.0 in d:\\conda\\envs\\youtube-sentiment\\lib\\site-packages (from rich>=13.9.4->fastmcp<3,>=2.0.0->mlflow) (2.19.2)\n",
      "Requirement already satisfied: mdurl~=0.1 in d:\\conda\\envs\\youtube-sentiment\\lib\\site-packages (from markdown-it-py>=2.2.0->rich>=13.9.4->fastmcp<3,>=2.0.0->mlflow) (0.1.2)\n"
     ]
    }
   ],
   "source": [
    "!pip install mlflow boto3 awscli"
   ]
  },
  {
   "cell_type": "code",
   "execution_count": null,
   "id": "f0a61642",
   "metadata": {},
   "outputs": [],
   "source": [
    "!aws configure"
   ]
  },
  {
   "cell_type": "code",
   "execution_count": null,
   "id": "7f96230e",
   "metadata": {},
   "outputs": [],
   "source": [
    "import mlflow\n",
    "# Set up the MLflow tracking server\n",
    "mlflow.set_tracking_uri(\"http://ec2-52-53-234-96.us-west-1.compute.amazonaws.com:5000/\")"
   ]
  },
  {
   "cell_type": "code",
   "execution_count": null,
   "id": "9ae6755b",
   "metadata": {},
   "outputs": [
    {
     "name": "stderr",
     "output_type": "stream",
     "text": [
      "2025/10/24 20:38:25 INFO mlflow.tracking.fluent: Experiment with name 'Exp 4 - Handling Imbalanced Data' does not exist. Creating a new experiment.\n"
     ]
    },
    {
     "data": {
      "text/plain": [
       "<Experiment: artifact_location='s3://mlflow-tutorial-bucket/4', creation_time=1761363505632, experiment_id='4', last_update_time=1761363505632, lifecycle_stage='active', name='Exp 4 - Handling Imbalanced Data', tags={}>"
      ]
     },
     "execution_count": 3,
     "metadata": {},
     "output_type": "execute_result"
    }
   ],
   "source": [
    "# Set or create an experiment\n",
    "mlflow.set_experiment(\"Exp 4 - Handling Imbalanced Data\")"
   ]
  },
  {
   "cell_type": "code",
   "execution_count": null,
   "id": "82d3a363",
   "metadata": {},
   "outputs": [],
   "source": [
    "from imblearn.over_sampling import SMOTE, ADASYN\n",
    "from imblearn.under_sampling import RandomUnderSampler\n",
    "from imblearn.combine import SMOTEENN\n",
    "from sklearn.feature_extraction.text import TfidfVectorizer\n",
    "from sklearn.ensemble import RandomForestClassifier\n",
    "from sklearn.model_selection import train_test_split\n",
    "from sklearn.metrics import accuracy_score, classification_report, confusion_matrix\n",
    "import mlflow\n",
    "import mlflow.sklearn\n",
    "import matplotlib.pyplot as plt\n",
    "import seaborn as sns\n",
    "import pandas as pd\n",
    "import os"
   ]
  },
  {
   "cell_type": "code",
   "execution_count": null,
   "id": "24213773",
   "metadata": {},
   "outputs": [
    {
     "data": {
      "text/plain": [
       "(36662, 2)"
      ]
     },
     "execution_count": 5,
     "metadata": {},
     "output_type": "execute_result"
    }
   ],
   "source": [
    "df = pd.read_csv('../data/reddit_preprocessing.csv').dropna(subset=['clean_comment'])\n",
    "df.shape"
   ]
  },
  {
   "cell_type": "code",
   "execution_count": null,
   "id": "34c5b822",
   "metadata": {},
   "outputs": [
    {
     "name": "stderr",
     "output_type": "stream",
     "text": [
      "2025/10/24 20:40:13 WARNING mlflow.models.model: `artifact_path` is deprecated. Please use `name` instead.\n",
      "2025/10/24 20:40:22 WARNING mlflow.models.model: Model logged without a signature and input example. Please set `input_example` parameter when logging the model to auto infer the model signature.\n"
     ]
    },
    {
     "name": "stdout",
     "output_type": "stream",
     "text": [
      "🏃 View run Imbalance_class_weights_RandomForest_TFIDF_Trigrams at: http://ec2-52-53-234-96.us-west-1.compute.amazonaws.com:5000/#/experiments/4/runs/1ed507d51c654160b2f2d1b6a85602b1\n",
      "🧪 View experiment at: http://ec2-52-53-234-96.us-west-1.compute.amazonaws.com:5000/#/experiments/4\n"
     ]
    },
    {
     "name": "stderr",
     "output_type": "stream",
     "text": [
      "2025/10/24 20:41:20 WARNING mlflow.models.model: `artifact_path` is deprecated. Please use `name` instead.\n"
     ]
    }
   ],
   "source": [
    "# Function to run the experiment\n",
    "def run_imbalanced_experiment(imbalance_method):\n",
    "    ngram_range = (1, 3)  # Trigram setting\n",
    "    max_features = 10000  # Set max_features to 1000 for TF-IDF\n",
    "\n",
    "    # Train-test split before vectorization and resampling\n",
    "    X_train, X_test, y_train, y_test = train_test_split(df['clean_comment'], df['category'], test_size=0.2, random_state=42, stratify=df['category'])\n",
    "\n",
    "    # Vectorization using TF-IDF, fit on training data only\n",
    "    vectorizer = TfidfVectorizer(ngram_range=ngram_range, max_features=max_features)\n",
    "    X_train_vec = vectorizer.fit_transform(X_train)  # Fit on training data\n",
    "    X_test_vec = vectorizer.transform(X_test)  # Transform test data\n",
    "\n",
    "    # Handle class imbalance based on the selected method (only applied to the training set)\n",
    "    if imbalance_method == 'class_weights':\n",
    "        # Use class_weight in Random Forest\n",
    "        class_weight = 'balanced'\n",
    "    else:\n",
    "        class_weight = None  # Do not apply class_weight if using resampling\n",
    "\n",
    "        # Resampling Techniques (only apply to the training set)\n",
    "        if imbalance_method == 'oversampling':\n",
    "            smote = SMOTE(random_state=42)\n",
    "            X_train_vec, y_train = smote.fit_resample(X_train_vec, y_train)\n",
    "        elif imbalance_method == 'adasyn':\n",
    "            adasyn = ADASYN(random_state=42)\n",
    "            X_train_vec, y_train = adasyn.fit_resample(X_train_vec, y_train)\n",
    "        elif imbalance_method == 'undersampling':\n",
    "            rus = RandomUnderSampler(random_state=42)\n",
    "            X_train_vec, y_train = rus.fit_resample(X_train_vec, y_train)\n",
    "        elif imbalance_method == 'smote_enn':\n",
    "            smote_enn = SMOTEENN(random_state=42)\n",
    "            X_train_vec, y_train = smote_enn.fit_resample(X_train_vec, y_train)\n",
    "\n",
    "    # Define and train a Random Forest model\n",
    "    with mlflow.start_run() as run:\n",
    "        # Set tags for the experiment and run\n",
    "        mlflow.set_tag(\"mlflow.runName\", f\"Imbalance_{imbalance_method}_RandomForest_TFIDF_Trigrams\")\n",
    "        mlflow.set_tag(\"experiment_type\", \"imbalance_handling\")\n",
    "        mlflow.set_tag(\"model_type\", \"RandomForestClassifier\")\n",
    "\n",
    "        # Add a description\n",
    "        mlflow.set_tag(\"description\", f\"RandomForest with TF-IDF Trigrams, imbalance handling method={imbalance_method}\")\n",
    "\n",
    "        # Log vectorizer parameters\n",
    "        mlflow.log_param(\"vectorizer_type\", \"TF-IDF\")\n",
    "        mlflow.log_param(\"ngram_range\", ngram_range)\n",
    "        mlflow.log_param(\"vectorizer_max_features\", max_features)\n",
    "\n",
    "        # Log Random Forest parameters\n",
    "        n_estimators = 200\n",
    "        max_depth = 15\n",
    "\n",
    "        mlflow.log_param(\"n_estimators\", n_estimators)\n",
    "        mlflow.log_param(\"max_depth\", max_depth)\n",
    "        mlflow.log_param(\"imbalance_method\", imbalance_method)\n",
    "\n",
    "        # Initialize and train the model\n",
    "        model = RandomForestClassifier(n_estimators=n_estimators, max_depth=max_depth, random_state=42, class_weight=class_weight)\n",
    "        model.fit(X_train_vec, y_train)\n",
    "\n",
    "        # Make predictions and log metrics\n",
    "        y_pred = model.predict(X_test_vec)\n",
    "\n",
    "        # Log accuracy\n",
    "        accuracy = accuracy_score(y_test, y_pred)\n",
    "        mlflow.log_metric(\"accuracy\", accuracy)\n",
    "\n",
    "        # Log classification report\n",
    "        classification_rep = classification_report(y_test, y_pred, output_dict=True)\n",
    "        for label, metrics in classification_rep.items():\n",
    "            if isinstance(metrics, dict):\n",
    "                for metric, value in metrics.items():\n",
    "                    mlflow.log_metric(f\"{label}_{metric}\", value)\n",
    "\n",
    "        # Log confusion matrix\n",
    "        conf_matrix = confusion_matrix(y_test, y_pred)\n",
    "        plt.figure(figsize=(8, 6))\n",
    "        sns.heatmap(conf_matrix, annot=True, fmt=\"d\", cmap=\"Blues\")\n",
    "        plt.xlabel(\"Predicted\")\n",
    "        plt.ylabel(\"Actual\")\n",
    "        plt.title(f\"Confusion Matrix: TF-IDF Trigrams, Imbalance={imbalance_method}\")\n",
    "        confusion_matrix_filename = f\"../images/confusion_matrix_{imbalance_method}.png\"\n",
    "        plt.savefig(confusion_matrix_filename)\n",
    "        mlflow.log_artifact(confusion_matrix_filename)\n",
    "        plt.close()\n",
    "\n",
    "        # Log the model\n",
    "        mlflow.sklearn.log_model(model, f\"random_forest_model_tfidf_trigrams_imbalance_{imbalance_method}\")\n",
    "\n",
    "# Run experiments for different imbalance methods\n",
    "imbalance_methods = ['class_weights', 'oversampling', 'adasyn', 'undersampling', 'smote_enn']\n",
    "\n",
    "for method in imbalance_methods:\n",
    "    run_imbalanced_experiment(method)"
   ]
  }
 ],
 "metadata": {
  "kernelspec": {
   "display_name": "youtube-sentiment",
   "language": "python",
   "name": "python3"
  },
  "language_info": {
   "codemirror_mode": {
    "name": "ipython",
    "version": 3
   },
   "file_extension": ".py",
   "mimetype": "text/x-python",
   "name": "python",
   "nbconvert_exporter": "python",
   "pygments_lexer": "ipython3",
   "version": "3.10.18"
  }
 },
 "nbformat": 4,
 "nbformat_minor": 5
}
