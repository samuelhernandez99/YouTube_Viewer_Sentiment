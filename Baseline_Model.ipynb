{
 "cells": [
  {
   "cell_type": "code",
   "execution_count": 1,
   "id": "b0c248ec",
   "metadata": {},
   "outputs": [
    {
     "name": "stdout",
     "output_type": "stream",
     "text": [
      "Requirement already satisfied: mlflow in d:\\conda\\envs\\youtube-sentiment\\lib\\site-packages (3.5.0)\n",
      "Requirement already satisfied: mlflow-skinny==3.5.0 in d:\\conda\\envs\\youtube-sentiment\\lib\\site-packages (from mlflow) (3.5.0)\n",
      "Requirement already satisfied: mlflow-tracing==3.5.0 in d:\\conda\\envs\\youtube-sentiment\\lib\\site-packages (from mlflow) (3.5.0)\n",
      "Requirement already satisfied: Flask-CORS<7 in d:\\conda\\envs\\youtube-sentiment\\lib\\site-packages (from mlflow) (6.0.1)\n",
      "Requirement already satisfied: Flask<4 in d:\\conda\\envs\\youtube-sentiment\\lib\\site-packages (from mlflow) (3.1.2)\n",
      "Requirement already satisfied: alembic!=1.10.0,<2 in d:\\conda\\envs\\youtube-sentiment\\lib\\site-packages (from mlflow) (1.17.0)\n",
      "Requirement already satisfied: cryptography<47,>=43.0.0 in d:\\conda\\envs\\youtube-sentiment\\lib\\site-packages (from mlflow) (46.0.3)\n",
      "Requirement already satisfied: docker<8,>=4.0.0 in d:\\conda\\envs\\youtube-sentiment\\lib\\site-packages (from mlflow) (7.1.0)\n",
      "Requirement already satisfied: fastmcp<3,>=2.0.0 in d:\\conda\\envs\\youtube-sentiment\\lib\\site-packages (from mlflow) (2.12.5)\n",
      "Requirement already satisfied: graphene<4 in d:\\conda\\envs\\youtube-sentiment\\lib\\site-packages (from mlflow) (3.4.3)\n",
      "Requirement already satisfied: matplotlib<4 in d:\\conda\\envs\\youtube-sentiment\\lib\\site-packages (from mlflow) (3.10.7)\n",
      "Requirement already satisfied: numpy<3 in d:\\conda\\envs\\youtube-sentiment\\lib\\site-packages (from mlflow) (2.2.6)\n",
      "Requirement already satisfied: pandas<3 in d:\\conda\\envs\\youtube-sentiment\\lib\\site-packages (from mlflow) (2.3.3)\n",
      "Requirement already satisfied: pyarrow<22,>=4.0.0 in d:\\conda\\envs\\youtube-sentiment\\lib\\site-packages (from mlflow) (21.0.0)\n",
      "Requirement already satisfied: scikit-learn<2 in d:\\conda\\envs\\youtube-sentiment\\lib\\site-packages (from mlflow) (1.7.2)\n",
      "Requirement already satisfied: scipy<2 in d:\\conda\\envs\\youtube-sentiment\\lib\\site-packages (from mlflow) (1.15.3)\n",
      "Requirement already satisfied: sqlalchemy<3,>=1.4.0 in d:\\conda\\envs\\youtube-sentiment\\lib\\site-packages (from mlflow) (2.0.44)\n",
      "Requirement already satisfied: waitress<4 in d:\\conda\\envs\\youtube-sentiment\\lib\\site-packages (from mlflow) (3.0.2)\n",
      "Requirement already satisfied: cachetools<7,>=5.0.0 in d:\\conda\\envs\\youtube-sentiment\\lib\\site-packages (from mlflow-skinny==3.5.0->mlflow) (6.2.1)\n",
      "Requirement already satisfied: click<9,>=7.0 in d:\\conda\\envs\\youtube-sentiment\\lib\\site-packages (from mlflow-skinny==3.5.0->mlflow) (8.3.0)\n",
      "Requirement already satisfied: cloudpickle<4 in d:\\conda\\envs\\youtube-sentiment\\lib\\site-packages (from mlflow-skinny==3.5.0->mlflow) (3.1.1)\n",
      "Requirement already satisfied: databricks-sdk<1,>=0.20.0 in d:\\conda\\envs\\youtube-sentiment\\lib\\site-packages (from mlflow-skinny==3.5.0->mlflow) (0.68.0)\n",
      "Requirement already satisfied: fastapi<1 in d:\\conda\\envs\\youtube-sentiment\\lib\\site-packages (from mlflow-skinny==3.5.0->mlflow) (0.119.0)\n",
      "Requirement already satisfied: gitpython<4,>=3.1.9 in d:\\conda\\envs\\youtube-sentiment\\lib\\site-packages (from mlflow-skinny==3.5.0->mlflow) (3.1.45)\n",
      "Requirement already satisfied: importlib_metadata!=4.7.0,<9,>=3.7.0 in d:\\conda\\envs\\youtube-sentiment\\lib\\site-packages (from mlflow-skinny==3.5.0->mlflow) (8.7.0)\n",
      "Requirement already satisfied: opentelemetry-api<3,>=1.9.0 in d:\\conda\\envs\\youtube-sentiment\\lib\\site-packages (from mlflow-skinny==3.5.0->mlflow) (1.38.0)\n",
      "Requirement already satisfied: opentelemetry-proto<3,>=1.9.0 in d:\\conda\\envs\\youtube-sentiment\\lib\\site-packages (from mlflow-skinny==3.5.0->mlflow) (1.38.0)\n",
      "Requirement already satisfied: opentelemetry-sdk<3,>=1.9.0 in d:\\conda\\envs\\youtube-sentiment\\lib\\site-packages (from mlflow-skinny==3.5.0->mlflow) (1.38.0)\n",
      "Requirement already satisfied: packaging<26 in d:\\conda\\envs\\youtube-sentiment\\lib\\site-packages (from mlflow-skinny==3.5.0->mlflow) (25.0)\n",
      "Requirement already satisfied: protobuf<7,>=3.12.0 in d:\\conda\\envs\\youtube-sentiment\\lib\\site-packages (from mlflow-skinny==3.5.0->mlflow) (6.33.0)\n",
      "Requirement already satisfied: pydantic<3,>=1.10.8 in d:\\conda\\envs\\youtube-sentiment\\lib\\site-packages (from mlflow-skinny==3.5.0->mlflow) (2.12.3)\n",
      "Requirement already satisfied: python-dotenv<2,>=0.19.0 in d:\\conda\\envs\\youtube-sentiment\\lib\\site-packages (from mlflow-skinny==3.5.0->mlflow) (1.1.1)\n",
      "Requirement already satisfied: pyyaml<7,>=5.1 in d:\\conda\\envs\\youtube-sentiment\\lib\\site-packages (from mlflow-skinny==3.5.0->mlflow) (6.0.3)\n",
      "Requirement already satisfied: requests<3,>=2.17.3 in d:\\conda\\envs\\youtube-sentiment\\lib\\site-packages (from mlflow-skinny==3.5.0->mlflow) (2.32.5)\n",
      "Requirement already satisfied: sqlparse<1,>=0.4.0 in d:\\conda\\envs\\youtube-sentiment\\lib\\site-packages (from mlflow-skinny==3.5.0->mlflow) (0.5.3)\n",
      "Requirement already satisfied: typing-extensions<5,>=4.0.0 in d:\\conda\\envs\\youtube-sentiment\\lib\\site-packages (from mlflow-skinny==3.5.0->mlflow) (4.15.0)\n",
      "Requirement already satisfied: uvicorn<1 in d:\\conda\\envs\\youtube-sentiment\\lib\\site-packages (from mlflow-skinny==3.5.0->mlflow) (0.38.0)\n",
      "Requirement already satisfied: Mako in d:\\conda\\envs\\youtube-sentiment\\lib\\site-packages (from alembic!=1.10.0,<2->mlflow) (1.3.10)\n",
      "Requirement already satisfied: tomli in d:\\conda\\envs\\youtube-sentiment\\lib\\site-packages (from alembic!=1.10.0,<2->mlflow) (2.3.0)\n",
      "Requirement already satisfied: colorama in d:\\conda\\envs\\youtube-sentiment\\lib\\site-packages (from click<9,>=7.0->mlflow-skinny==3.5.0->mlflow) (0.4.6)\n",
      "Requirement already satisfied: cffi>=2.0.0 in d:\\conda\\envs\\youtube-sentiment\\lib\\site-packages (from cryptography<47,>=43.0.0->mlflow) (2.0.0)\n",
      "Requirement already satisfied: google-auth~=2.0 in d:\\conda\\envs\\youtube-sentiment\\lib\\site-packages (from databricks-sdk<1,>=0.20.0->mlflow-skinny==3.5.0->mlflow) (2.41.1)\n",
      "Requirement already satisfied: pywin32>=304 in d:\\conda\\envs\\youtube-sentiment\\lib\\site-packages (from docker<8,>=4.0.0->mlflow) (311)\n",
      "Requirement already satisfied: urllib3>=1.26.0 in d:\\conda\\envs\\youtube-sentiment\\lib\\site-packages (from docker<8,>=4.0.0->mlflow) (2.5.0)\n",
      "Requirement already satisfied: starlette<0.49.0,>=0.40.0 in d:\\conda\\envs\\youtube-sentiment\\lib\\site-packages (from fastapi<1->mlflow-skinny==3.5.0->mlflow) (0.48.0)\n",
      "Requirement already satisfied: authlib>=1.5.2 in d:\\conda\\envs\\youtube-sentiment\\lib\\site-packages (from fastmcp<3,>=2.0.0->mlflow) (1.6.5)\n",
      "Requirement already satisfied: cyclopts>=3.0.0 in d:\\conda\\envs\\youtube-sentiment\\lib\\site-packages (from fastmcp<3,>=2.0.0->mlflow) (3.24.0)\n",
      "Requirement already satisfied: exceptiongroup>=1.2.2 in d:\\conda\\envs\\youtube-sentiment\\lib\\site-packages (from fastmcp<3,>=2.0.0->mlflow) (1.3.0)\n",
      "Requirement already satisfied: httpx>=0.28.1 in d:\\conda\\envs\\youtube-sentiment\\lib\\site-packages (from fastmcp<3,>=2.0.0->mlflow) (0.28.1)\n",
      "Requirement already satisfied: mcp<1.17.0,>=1.12.4 in d:\\conda\\envs\\youtube-sentiment\\lib\\site-packages (from fastmcp<3,>=2.0.0->mlflow) (1.16.0)\n",
      "Requirement already satisfied: openapi-core>=0.19.5 in d:\\conda\\envs\\youtube-sentiment\\lib\\site-packages (from fastmcp<3,>=2.0.0->mlflow) (0.19.5)\n",
      "Requirement already satisfied: openapi-pydantic>=0.5.1 in d:\\conda\\envs\\youtube-sentiment\\lib\\site-packages (from fastmcp<3,>=2.0.0->mlflow) (0.5.1)\n",
      "Requirement already satisfied: pyperclip>=1.9.0 in d:\\conda\\envs\\youtube-sentiment\\lib\\site-packages (from fastmcp<3,>=2.0.0->mlflow) (1.11.0)\n",
      "Requirement already satisfied: rich>=13.9.4 in d:\\conda\\envs\\youtube-sentiment\\lib\\site-packages (from fastmcp<3,>=2.0.0->mlflow) (14.2.0)\n",
      "Requirement already satisfied: blinker>=1.9.0 in d:\\conda\\envs\\youtube-sentiment\\lib\\site-packages (from Flask<4->mlflow) (1.9.0)\n",
      "Requirement already satisfied: itsdangerous>=2.2.0 in d:\\conda\\envs\\youtube-sentiment\\lib\\site-packages (from Flask<4->mlflow) (2.2.0)\n",
      "Requirement already satisfied: jinja2>=3.1.2 in d:\\conda\\envs\\youtube-sentiment\\lib\\site-packages (from Flask<4->mlflow) (3.1.6)\n",
      "Requirement already satisfied: markupsafe>=2.1.1 in d:\\conda\\envs\\youtube-sentiment\\lib\\site-packages (from Flask<4->mlflow) (3.0.3)\n",
      "Requirement already satisfied: werkzeug>=3.1.0 in d:\\conda\\envs\\youtube-sentiment\\lib\\site-packages (from Flask<4->mlflow) (3.1.1)\n",
      "Requirement already satisfied: gitdb<5,>=4.0.1 in d:\\conda\\envs\\youtube-sentiment\\lib\\site-packages (from gitpython<4,>=3.1.9->mlflow-skinny==3.5.0->mlflow) (4.0.12)\n",
      "Requirement already satisfied: smmap<6,>=3.0.1 in d:\\conda\\envs\\youtube-sentiment\\lib\\site-packages (from gitdb<5,>=4.0.1->gitpython<4,>=3.1.9->mlflow-skinny==3.5.0->mlflow) (5.0.2)\n",
      "Requirement already satisfied: pyasn1-modules>=0.2.1 in d:\\conda\\envs\\youtube-sentiment\\lib\\site-packages (from google-auth~=2.0->databricks-sdk<1,>=0.20.0->mlflow-skinny==3.5.0->mlflow) (0.4.2)\n",
      "Requirement already satisfied: rsa<5,>=3.1.4 in d:\\conda\\envs\\youtube-sentiment\\lib\\site-packages (from google-auth~=2.0->databricks-sdk<1,>=0.20.0->mlflow-skinny==3.5.0->mlflow) (4.9.1)\n",
      "Requirement already satisfied: graphql-core<3.3,>=3.1 in d:\\conda\\envs\\youtube-sentiment\\lib\\site-packages (from graphene<4->mlflow) (3.2.6)\n",
      "Requirement already satisfied: graphql-relay<3.3,>=3.1 in d:\\conda\\envs\\youtube-sentiment\\lib\\site-packages (from graphene<4->mlflow) (3.2.0)\n",
      "Requirement already satisfied: python-dateutil<3,>=2.7.0 in d:\\conda\\envs\\youtube-sentiment\\lib\\site-packages (from graphene<4->mlflow) (2.9.0.post0)\n",
      "Requirement already satisfied: zipp>=3.20 in d:\\conda\\envs\\youtube-sentiment\\lib\\site-packages (from importlib_metadata!=4.7.0,<9,>=3.7.0->mlflow-skinny==3.5.0->mlflow) (3.23.0)\n",
      "Requirement already satisfied: contourpy>=1.0.1 in d:\\conda\\envs\\youtube-sentiment\\lib\\site-packages (from matplotlib<4->mlflow) (1.3.2)\n",
      "Requirement already satisfied: cycler>=0.10 in d:\\conda\\envs\\youtube-sentiment\\lib\\site-packages (from matplotlib<4->mlflow) (0.12.1)\n",
      "Requirement already satisfied: fonttools>=4.22.0 in d:\\conda\\envs\\youtube-sentiment\\lib\\site-packages (from matplotlib<4->mlflow) (4.60.1)\n",
      "Requirement already satisfied: kiwisolver>=1.3.1 in d:\\conda\\envs\\youtube-sentiment\\lib\\site-packages (from matplotlib<4->mlflow) (1.4.9)\n",
      "Requirement already satisfied: pillow>=8 in d:\\conda\\envs\\youtube-sentiment\\lib\\site-packages (from matplotlib<4->mlflow) (12.0.0)\n",
      "Requirement already satisfied: pyparsing>=3 in d:\\conda\\envs\\youtube-sentiment\\lib\\site-packages (from matplotlib<4->mlflow) (3.2.5)\n",
      "Requirement already satisfied: anyio>=4.5 in d:\\conda\\envs\\youtube-sentiment\\lib\\site-packages (from mcp<1.17.0,>=1.12.4->fastmcp<3,>=2.0.0->mlflow) (4.11.0)\n",
      "Requirement already satisfied: httpx-sse>=0.4 in d:\\conda\\envs\\youtube-sentiment\\lib\\site-packages (from mcp<1.17.0,>=1.12.4->fastmcp<3,>=2.0.0->mlflow) (0.4.3)\n",
      "Requirement already satisfied: jsonschema>=4.20.0 in d:\\conda\\envs\\youtube-sentiment\\lib\\site-packages (from mcp<1.17.0,>=1.12.4->fastmcp<3,>=2.0.0->mlflow) (4.25.1)\n",
      "Requirement already satisfied: pydantic-settings>=2.5.2 in d:\\conda\\envs\\youtube-sentiment\\lib\\site-packages (from mcp<1.17.0,>=1.12.4->fastmcp<3,>=2.0.0->mlflow) (2.11.0)\n",
      "Requirement already satisfied: python-multipart>=0.0.9 in d:\\conda\\envs\\youtube-sentiment\\lib\\site-packages (from mcp<1.17.0,>=1.12.4->fastmcp<3,>=2.0.0->mlflow) (0.0.20)\n",
      "Requirement already satisfied: sse-starlette>=1.6.1 in d:\\conda\\envs\\youtube-sentiment\\lib\\site-packages (from mcp<1.17.0,>=1.12.4->fastmcp<3,>=2.0.0->mlflow) (3.0.2)\n",
      "Requirement already satisfied: opentelemetry-semantic-conventions==0.59b0 in d:\\conda\\envs\\youtube-sentiment\\lib\\site-packages (from opentelemetry-sdk<3,>=1.9.0->mlflow-skinny==3.5.0->mlflow) (0.59b0)\n",
      "Requirement already satisfied: pytz>=2020.1 in d:\\conda\\envs\\youtube-sentiment\\lib\\site-packages (from pandas<3->mlflow) (2025.2)\n",
      "Requirement already satisfied: tzdata>=2022.7 in d:\\conda\\envs\\youtube-sentiment\\lib\\site-packages (from pandas<3->mlflow) (2025.2)\n",
      "Requirement already satisfied: annotated-types>=0.6.0 in d:\\conda\\envs\\youtube-sentiment\\lib\\site-packages (from pydantic<3,>=1.10.8->mlflow-skinny==3.5.0->mlflow) (0.7.0)\n",
      "Requirement already satisfied: pydantic-core==2.41.4 in d:\\conda\\envs\\youtube-sentiment\\lib\\site-packages (from pydantic<3,>=1.10.8->mlflow-skinny==3.5.0->mlflow) (2.41.4)\n",
      "Requirement already satisfied: typing-inspection>=0.4.2 in d:\\conda\\envs\\youtube-sentiment\\lib\\site-packages (from pydantic<3,>=1.10.8->mlflow-skinny==3.5.0->mlflow) (0.4.2)\n",
      "Requirement already satisfied: six>=1.5 in d:\\conda\\envs\\youtube-sentiment\\lib\\site-packages (from python-dateutil<3,>=2.7.0->graphene<4->mlflow) (1.17.0)\n",
      "Requirement already satisfied: charset_normalizer<4,>=2 in d:\\conda\\envs\\youtube-sentiment\\lib\\site-packages (from requests<3,>=2.17.3->mlflow-skinny==3.5.0->mlflow) (3.4.4)\n",
      "Requirement already satisfied: idna<4,>=2.5 in d:\\conda\\envs\\youtube-sentiment\\lib\\site-packages (from requests<3,>=2.17.3->mlflow-skinny==3.5.0->mlflow) (3.11)\n",
      "Requirement already satisfied: certifi>=2017.4.17 in d:\\conda\\envs\\youtube-sentiment\\lib\\site-packages (from requests<3,>=2.17.3->mlflow-skinny==3.5.0->mlflow) (2025.10.5)\n",
      "Requirement already satisfied: pyasn1>=0.1.3 in d:\\conda\\envs\\youtube-sentiment\\lib\\site-packages (from rsa<5,>=3.1.4->google-auth~=2.0->databricks-sdk<1,>=0.20.0->mlflow-skinny==3.5.0->mlflow) (0.6.1)\n",
      "Requirement already satisfied: joblib>=1.2.0 in d:\\conda\\envs\\youtube-sentiment\\lib\\site-packages (from scikit-learn<2->mlflow) (1.5.2)\n",
      "Requirement already satisfied: threadpoolctl>=3.1.0 in d:\\conda\\envs\\youtube-sentiment\\lib\\site-packages (from scikit-learn<2->mlflow) (3.6.0)\n",
      "Requirement already satisfied: greenlet>=1 in d:\\conda\\envs\\youtube-sentiment\\lib\\site-packages (from sqlalchemy<3,>=1.4.0->mlflow) (3.2.4)\n",
      "Requirement already satisfied: sniffio>=1.1 in d:\\conda\\envs\\youtube-sentiment\\lib\\site-packages (from anyio>=4.5->mcp<1.17.0,>=1.12.4->fastmcp<3,>=2.0.0->mlflow) (1.3.1)\n",
      "Requirement already satisfied: h11>=0.8 in d:\\conda\\envs\\youtube-sentiment\\lib\\site-packages (from uvicorn<1->mlflow-skinny==3.5.0->mlflow) (0.16.0)\n",
      "Requirement already satisfied: pycparser in d:\\conda\\envs\\youtube-sentiment\\lib\\site-packages (from cffi>=2.0.0->cryptography<47,>=43.0.0->mlflow) (2.23)\n",
      "Requirement already satisfied: attrs>=23.1.0 in d:\\conda\\envs\\youtube-sentiment\\lib\\site-packages (from cyclopts>=3.0.0->fastmcp<3,>=2.0.0->mlflow) (25.4.0)\n",
      "Requirement already satisfied: docstring-parser>=0.15 in d:\\conda\\envs\\youtube-sentiment\\lib\\site-packages (from cyclopts>=3.0.0->fastmcp<3,>=2.0.0->mlflow) (0.17.0)\n",
      "Requirement already satisfied: rich-rst<2.0.0,>=1.3.1 in d:\\conda\\envs\\youtube-sentiment\\lib\\site-packages (from cyclopts>=3.0.0->fastmcp<3,>=2.0.0->mlflow) (1.3.2)\n",
      "Requirement already satisfied: docutils in d:\\conda\\envs\\youtube-sentiment\\lib\\site-packages (from rich-rst<2.0.0,>=1.3.1->cyclopts>=3.0.0->fastmcp<3,>=2.0.0->mlflow) (0.22.2)\n",
      "Requirement already satisfied: httpcore==1.* in d:\\conda\\envs\\youtube-sentiment\\lib\\site-packages (from httpx>=0.28.1->fastmcp<3,>=2.0.0->mlflow) (1.0.9)\n",
      "Requirement already satisfied: jsonschema-specifications>=2023.03.6 in d:\\conda\\envs\\youtube-sentiment\\lib\\site-packages (from jsonschema>=4.20.0->mcp<1.17.0,>=1.12.4->fastmcp<3,>=2.0.0->mlflow) (2025.9.1)\n",
      "Requirement already satisfied: referencing>=0.28.4 in d:\\conda\\envs\\youtube-sentiment\\lib\\site-packages (from jsonschema>=4.20.0->mcp<1.17.0,>=1.12.4->fastmcp<3,>=2.0.0->mlflow) (0.36.2)\n",
      "Requirement already satisfied: rpds-py>=0.7.1 in d:\\conda\\envs\\youtube-sentiment\\lib\\site-packages (from jsonschema>=4.20.0->mcp<1.17.0,>=1.12.4->fastmcp<3,>=2.0.0->mlflow) (0.27.1)\n",
      "Requirement already satisfied: isodate in d:\\conda\\envs\\youtube-sentiment\\lib\\site-packages (from openapi-core>=0.19.5->fastmcp<3,>=2.0.0->mlflow) (0.7.2)\n",
      "Requirement already satisfied: jsonschema-path<0.4.0,>=0.3.1 in d:\\conda\\envs\\youtube-sentiment\\lib\\site-packages (from openapi-core>=0.19.5->fastmcp<3,>=2.0.0->mlflow) (0.3.4)\n",
      "Requirement already satisfied: more-itertools in d:\\conda\\envs\\youtube-sentiment\\lib\\site-packages (from openapi-core>=0.19.5->fastmcp<3,>=2.0.0->mlflow) (10.8.0)\n",
      "Requirement already satisfied: openapi-schema-validator<0.7.0,>=0.6.0 in d:\\conda\\envs\\youtube-sentiment\\lib\\site-packages (from openapi-core>=0.19.5->fastmcp<3,>=2.0.0->mlflow) (0.6.3)\n",
      "Requirement already satisfied: openapi-spec-validator<0.8.0,>=0.7.1 in d:\\conda\\envs\\youtube-sentiment\\lib\\site-packages (from openapi-core>=0.19.5->fastmcp<3,>=2.0.0->mlflow) (0.7.2)\n",
      "Requirement already satisfied: parse in d:\\conda\\envs\\youtube-sentiment\\lib\\site-packages (from openapi-core>=0.19.5->fastmcp<3,>=2.0.0->mlflow) (1.20.2)\n",
      "Requirement already satisfied: pathable<0.5.0,>=0.4.1 in d:\\conda\\envs\\youtube-sentiment\\lib\\site-packages (from jsonschema-path<0.4.0,>=0.3.1->openapi-core>=0.19.5->fastmcp<3,>=2.0.0->mlflow) (0.4.4)\n",
      "Requirement already satisfied: rfc3339-validator in d:\\conda\\envs\\youtube-sentiment\\lib\\site-packages (from openapi-schema-validator<0.7.0,>=0.6.0->openapi-core>=0.19.5->fastmcp<3,>=2.0.0->mlflow) (0.1.4)\n",
      "Requirement already satisfied: lazy-object-proxy<2.0.0,>=1.7.1 in d:\\conda\\envs\\youtube-sentiment\\lib\\site-packages (from openapi-spec-validator<0.8.0,>=0.7.1->openapi-core>=0.19.5->fastmcp<3,>=2.0.0->mlflow) (1.12.0)\n",
      "Requirement already satisfied: email-validator>=2.0.0 in d:\\conda\\envs\\youtube-sentiment\\lib\\site-packages (from pydantic[email]>=2.11.7->fastmcp<3,>=2.0.0->mlflow) (2.3.0)\n",
      "Requirement already satisfied: dnspython>=2.0.0 in d:\\conda\\envs\\youtube-sentiment\\lib\\site-packages (from email-validator>=2.0.0->pydantic[email]>=2.11.7->fastmcp<3,>=2.0.0->mlflow) (2.8.0)\n",
      "Requirement already satisfied: markdown-it-py>=2.2.0 in d:\\conda\\envs\\youtube-sentiment\\lib\\site-packages (from rich>=13.9.4->fastmcp<3,>=2.0.0->mlflow) (4.0.0)\n",
      "Requirement already satisfied: pygments<3.0.0,>=2.13.0 in d:\\conda\\envs\\youtube-sentiment\\lib\\site-packages (from rich>=13.9.4->fastmcp<3,>=2.0.0->mlflow) (2.19.2)\n",
      "Requirement already satisfied: mdurl~=0.1 in d:\\conda\\envs\\youtube-sentiment\\lib\\site-packages (from markdown-it-py>=2.2.0->rich>=13.9.4->fastmcp<3,>=2.0.0->mlflow) (0.1.2)\n"
     ]
    }
   ],
   "source": [
    "!pip install mlflow"
   ]
  },
  {
   "cell_type": "code",
   "execution_count": 3,
   "id": "427d94d6",
   "metadata": {},
   "outputs": [
    {
     "name": "stdout",
     "output_type": "stream",
     "text": [
      "🏃 View run indecisive-vole-111 at: http://ec2-54-219-82-206.us-west-1.compute.amazonaws.com:5000/#/experiments/0/runs/b05f0d796dc84909a3f7ae5ce366b4c5\n",
      "🧪 View experiment at: http://ec2-54-219-82-206.us-west-1.compute.amazonaws.com:5000/#/experiments/0\n"
     ]
    }
   ],
   "source": [
    "# Test mlflow\n",
    "\n",
    "import mlflow\n",
    "\n",
    "mlflow.set_tracking_uri(\"http://ec2-54-219-82-206.us-west-1.compute.amazonaws.com:5000/\")\n",
    "\n",
    "with mlflow.start_run():\n",
    "    mlflow.log_param(\"param1\", 15)\n",
    "    mlflow.log_metric(\"metric1\", 0.89)"
   ]
  },
  {
   "cell_type": "code",
   "execution_count": 4,
   "id": "8778eb0e",
   "metadata": {},
   "outputs": [],
   "source": [
    "# Create baseline model\n",
    "\n",
    "import numpy as np\n",
    "import pandas as pd"
   ]
  },
  {
   "cell_type": "code",
   "execution_count": 5,
   "id": "3c8bfd94",
   "metadata": {},
   "outputs": [
    {
     "data": {
      "text/html": [
       "<div>\n",
       "<style scoped>\n",
       "    .dataframe tbody tr th:only-of-type {\n",
       "        vertical-align: middle;\n",
       "    }\n",
       "\n",
       "    .dataframe tbody tr th {\n",
       "        vertical-align: top;\n",
       "    }\n",
       "\n",
       "    .dataframe thead th {\n",
       "        text-align: right;\n",
       "    }\n",
       "</style>\n",
       "<table border=\"1\" class=\"dataframe\">\n",
       "  <thead>\n",
       "    <tr style=\"text-align: right;\">\n",
       "      <th></th>\n",
       "      <th>clean_comment</th>\n",
       "      <th>category</th>\n",
       "    </tr>\n",
       "  </thead>\n",
       "  <tbody>\n",
       "    <tr>\n",
       "      <th>0</th>\n",
       "      <td>family mormon have never tried explain them t...</td>\n",
       "      <td>1</td>\n",
       "    </tr>\n",
       "    <tr>\n",
       "      <th>1</th>\n",
       "      <td>buddhism has very much lot compatible with chr...</td>\n",
       "      <td>1</td>\n",
       "    </tr>\n",
       "    <tr>\n",
       "      <th>2</th>\n",
       "      <td>seriously don say thing first all they won get...</td>\n",
       "      <td>-1</td>\n",
       "    </tr>\n",
       "    <tr>\n",
       "      <th>3</th>\n",
       "      <td>what you have learned yours and only yours wha...</td>\n",
       "      <td>0</td>\n",
       "    </tr>\n",
       "    <tr>\n",
       "      <th>4</th>\n",
       "      <td>for your own benefit you may want read living ...</td>\n",
       "      <td>1</td>\n",
       "    </tr>\n",
       "  </tbody>\n",
       "</table>\n",
       "</div>"
      ],
      "text/plain": [
       "                                       clean_comment  category\n",
       "0   family mormon have never tried explain them t...         1\n",
       "1  buddhism has very much lot compatible with chr...         1\n",
       "2  seriously don say thing first all they won get...        -1\n",
       "3  what you have learned yours and only yours wha...         0\n",
       "4  for your own benefit you may want read living ...         1"
      ]
     },
     "execution_count": 5,
     "metadata": {},
     "output_type": "execute_result"
    }
   ],
   "source": [
    "df = pd.read_csv('https://raw.githubusercontent.com/Himanshu-1703/reddit-sentiment-analysis/refs/heads/main/data/reddit.csv')\n",
    "df.head()"
   ]
  },
  {
   "cell_type": "code",
   "execution_count": 6,
   "id": "1758974e",
   "metadata": {},
   "outputs": [],
   "source": [
    "df.dropna(inplace=True)"
   ]
  },
  {
   "cell_type": "code",
   "execution_count": 7,
   "id": "89fd7a1e",
   "metadata": {},
   "outputs": [],
   "source": [
    "df.drop_duplicates(inplace=True)"
   ]
  },
  {
   "cell_type": "code",
   "execution_count": 8,
   "id": "a0860780",
   "metadata": {},
   "outputs": [],
   "source": [
    "df = df[~(df['clean_comment'].str.strip() == '')]"
   ]
  },
  {
   "cell_type": "code",
   "execution_count": 9,
   "id": "a0bca244",
   "metadata": {},
   "outputs": [],
   "source": [
    "import re\n",
    "import nltk\n",
    "from nltk.corpus import stopwords\n",
    "from nltk.stem import WordNetLemmatizer"
   ]
  },
  {
   "cell_type": "code",
   "execution_count": 10,
   "id": "a68a6345",
   "metadata": {},
   "outputs": [
    {
     "name": "stderr",
     "output_type": "stream",
     "text": [
      "[nltk_data] Downloading package stopwords to\n",
      "[nltk_data]     C:\\Users\\samue\\AppData\\Roaming\\nltk_data...\n",
      "[nltk_data]   Package stopwords is already up-to-date!\n",
      "[nltk_data] Downloading package wordnet to\n",
      "[nltk_data]     C:\\Users\\samue\\AppData\\Roaming\\nltk_data...\n",
      "[nltk_data]   Package wordnet is already up-to-date!\n"
     ]
    },
    {
     "data": {
      "text/plain": [
       "True"
      ]
     },
     "execution_count": 10,
     "metadata": {},
     "output_type": "execute_result"
    }
   ],
   "source": [
    "# Ensure necessary NLTK data is downloaded\n",
    "nltk.download('stopwords')\n",
    "nltk.download('wordnet')"
   ]
  },
  {
   "cell_type": "code",
   "execution_count": 11,
   "id": "0f31a7b0",
   "metadata": {},
   "outputs": [],
   "source": [
    "# Define preprocessing function\n",
    "def preprocess_comment(comment):\n",
    "    # Convert to lowercase\n",
    "    comment = comment.lower()\n",
    "\n",
    "    # Remove trailing and leading whitespaces\n",
    "    comment = comment.strip()\n",
    "\n",
    "    # Remove newline characters\n",
    "    comment = re.sub(r'\\n', ' ', comment)\n",
    "\n",
    "    # Remove non-alphanumeric characters, except punctuation\n",
    "    comment = re.sub(r'[^A-Za-z0-9\\s!?.,]', '', comment)\n",
    "\n",
    "    # Remove stopwords but retain important ones for sentiment analysis\n",
    "    stop_words = set(stopwords.words('english')) - {'not', 'but', 'however', 'no', 'yet'}\n",
    "    comment = ' '.join([word for word in comment.split() if word not in stop_words])\n",
    "\n",
    "    # Lemmatize the words\n",
    "    lemmatizer = WordNetLemmatizer()\n",
    "    comment = ' '.join([lemmatizer.lemmatize(word) for word in comment.split()])\n",
    "\n",
    "    return comment"
   ]
  },
  {
   "cell_type": "code",
   "execution_count": 12,
   "id": "1ba4eb4b",
   "metadata": {},
   "outputs": [],
   "source": [
    "# Apply the preprocessing function to 'clean_comment' column\n",
    "df['clean_comment'] = df['clean_comment'].apply(preprocess_comment)"
   ]
  },
  {
   "cell_type": "code",
   "execution_count": 13,
   "id": "72b8329e",
   "metadata": {},
   "outputs": [
    {
     "data": {
      "text/html": [
       "<div>\n",
       "<style scoped>\n",
       "    .dataframe tbody tr th:only-of-type {\n",
       "        vertical-align: middle;\n",
       "    }\n",
       "\n",
       "    .dataframe tbody tr th {\n",
       "        vertical-align: top;\n",
       "    }\n",
       "\n",
       "    .dataframe thead th {\n",
       "        text-align: right;\n",
       "    }\n",
       "</style>\n",
       "<table border=\"1\" class=\"dataframe\">\n",
       "  <thead>\n",
       "    <tr style=\"text-align: right;\">\n",
       "      <th></th>\n",
       "      <th>clean_comment</th>\n",
       "      <th>category</th>\n",
       "    </tr>\n",
       "  </thead>\n",
       "  <tbody>\n",
       "    <tr>\n",
       "      <th>0</th>\n",
       "      <td>family mormon never tried explain still stare ...</td>\n",
       "      <td>1</td>\n",
       "    </tr>\n",
       "    <tr>\n",
       "      <th>1</th>\n",
       "      <td>buddhism much lot compatible christianity espe...</td>\n",
       "      <td>1</td>\n",
       "    </tr>\n",
       "    <tr>\n",
       "      <th>2</th>\n",
       "      <td>seriously say thing first get complex explain ...</td>\n",
       "      <td>-1</td>\n",
       "    </tr>\n",
       "    <tr>\n",
       "      <th>3</th>\n",
       "      <td>learned want teach different focus goal not wr...</td>\n",
       "      <td>0</td>\n",
       "    </tr>\n",
       "    <tr>\n",
       "      <th>4</th>\n",
       "      <td>benefit may want read living buddha living chr...</td>\n",
       "      <td>1</td>\n",
       "    </tr>\n",
       "  </tbody>\n",
       "</table>\n",
       "</div>"
      ],
      "text/plain": [
       "                                       clean_comment  category\n",
       "0  family mormon never tried explain still stare ...         1\n",
       "1  buddhism much lot compatible christianity espe...         1\n",
       "2  seriously say thing first get complex explain ...        -1\n",
       "3  learned want teach different focus goal not wr...         0\n",
       "4  benefit may want read living buddha living chr...         1"
      ]
     },
     "execution_count": 13,
     "metadata": {},
     "output_type": "execute_result"
    }
   ],
   "source": [
    "df.head()"
   ]
  },
  {
   "cell_type": "code",
   "execution_count": 14,
   "id": "0922946d",
   "metadata": {},
   "outputs": [],
   "source": [
    "import mlflow\n",
    "import mlflow.sklearn\n",
    "from sklearn.ensemble import RandomForestClassifier\n",
    "from sklearn.feature_extraction.text import CountVectorizer\n",
    "from sklearn.model_selection import train_test_split, cross_val_predict, StratifiedKFold\n",
    "from sklearn.metrics import accuracy_score, classification_report, confusion_matrix\n",
    "import pandas as pd\n",
    "import matplotlib.pyplot as plt\n",
    "import seaborn as sns"
   ]
  },
  {
   "cell_type": "code",
   "execution_count": null,
   "id": "1aa3cb30",
   "metadata": {},
   "outputs": [],
   "source": [
    "# Step 1: Vectorize the comments using Bag of Words (CountVectorizer)\n",
    "vectorizer = CountVectorizer(max_features=10000)  # Bag of Words model with a limit of 10,000 features"
   ]
  },
  {
   "cell_type": "code",
   "execution_count": 16,
   "id": "7919b8cb",
   "metadata": {},
   "outputs": [],
   "source": [
    "X = vectorizer.fit_transform(df['clean_comment']).toarray()\n",
    "y = df['category']  # Assuming 'sentiment' is the target variable (0 or 1 for binary classification)"
   ]
  },
  {
   "cell_type": "code",
   "execution_count": 17,
   "id": "8d8c678c",
   "metadata": {},
   "outputs": [
    {
     "data": {
      "text/plain": [
       "array([[0, 0, 0, ..., 0, 0, 0],\n",
       "       [0, 0, 0, ..., 0, 0, 0],\n",
       "       [0, 0, 0, ..., 0, 0, 0],\n",
       "       ...,\n",
       "       [0, 0, 0, ..., 0, 0, 0],\n",
       "       [0, 0, 0, ..., 0, 0, 0],\n",
       "       [0, 0, 0, ..., 0, 0, 0]], shape=(36793, 10000))"
      ]
     },
     "execution_count": 17,
     "metadata": {},
     "output_type": "execute_result"
    }
   ],
   "source": [
    "X"
   ]
  },
  {
   "cell_type": "code",
   "execution_count": 18,
   "id": "0c90f8c3",
   "metadata": {},
   "outputs": [
    {
     "data": {
      "text/plain": [
       "(36793, 10000)"
      ]
     },
     "execution_count": 18,
     "metadata": {},
     "output_type": "execute_result"
    }
   ],
   "source": [
    "X.shape"
   ]
  },
  {
   "cell_type": "code",
   "execution_count": 19,
   "id": "9abbbcdd",
   "metadata": {},
   "outputs": [
    {
     "data": {
      "text/plain": [
       "0        1\n",
       "1        1\n",
       "2       -1\n",
       "3        0\n",
       "4        1\n",
       "        ..\n",
       "37244    0\n",
       "37245    1\n",
       "37246    0\n",
       "37247    1\n",
       "37248    0\n",
       "Name: category, Length: 36793, dtype: int64"
      ]
     },
     "execution_count": 19,
     "metadata": {},
     "output_type": "execute_result"
    }
   ],
   "source": [
    "y"
   ]
  },
  {
   "cell_type": "code",
   "execution_count": 20,
   "id": "f2153142",
   "metadata": {},
   "outputs": [
    {
     "data": {
      "text/plain": [
       "(36793,)"
      ]
     },
     "execution_count": 20,
     "metadata": {},
     "output_type": "execute_result"
    }
   ],
   "source": [
    "y.shape"
   ]
  },
  {
   "cell_type": "code",
   "execution_count": 21,
   "id": "9713445b",
   "metadata": {},
   "outputs": [],
   "source": [
    "# Step 2: Set up the MLflow tracking server\n",
    "mlflow.set_tracking_uri(\"http://ec2-54-219-82-206.us-west-1.compute.amazonaws.com:5000/\")    "
   ]
  },
  {
   "cell_type": "code",
   "execution_count": 22,
   "id": "c37e312d",
   "metadata": {},
   "outputs": [
    {
     "name": "stderr",
     "output_type": "stream",
     "text": [
      "2025/10/20 13:44:53 INFO mlflow.tracking.fluent: Experiment with name 'RF Baseline' does not exist. Creating a new experiment.\n"
     ]
    },
    {
     "data": {
      "text/plain": [
       "<Experiment: artifact_location='s3://mlflow-tutorial-bucket/1', creation_time=1760993093396, experiment_id='1', last_update_time=1760993093396, lifecycle_stage='active', name='RF Baseline', tags={}>"
      ]
     },
     "execution_count": 22,
     "metadata": {},
     "output_type": "execute_result"
    }
   ],
   "source": [
    "# Set or create an experiment\n",
    "mlflow.set_experiment(\"RF Baseline\")"
   ]
  },
  {
   "cell_type": "code",
   "execution_count": 23,
   "id": "f72b2032",
   "metadata": {},
   "outputs": [
    {
     "name": "stdout",
     "output_type": "stream",
     "text": [
      "Collecting boto3\n",
      "  Downloading boto3-1.40.55-py3-none-any.whl.metadata (6.6 kB)\n",
      "Collecting botocore<1.41.0,>=1.40.55 (from boto3)\n",
      "  Downloading botocore-1.40.55-py3-none-any.whl.metadata (5.7 kB)\n",
      "Collecting jmespath<2.0.0,>=0.7.1 (from boto3)\n",
      "  Downloading jmespath-1.0.1-py3-none-any.whl.metadata (7.6 kB)\n",
      "Collecting s3transfer<0.15.0,>=0.14.0 (from boto3)\n",
      "  Downloading s3transfer-0.14.0-py3-none-any.whl.metadata (1.7 kB)\n",
      "Requirement already satisfied: python-dateutil<3.0.0,>=2.1 in d:\\conda\\envs\\youtube-sentiment\\lib\\site-packages (from botocore<1.41.0,>=1.40.55->boto3) (2.9.0.post0)\n",
      "Requirement already satisfied: urllib3!=2.2.0,<3,>=1.25.4 in d:\\conda\\envs\\youtube-sentiment\\lib\\site-packages (from botocore<1.41.0,>=1.40.55->boto3) (2.5.0)\n",
      "Requirement already satisfied: six>=1.5 in d:\\conda\\envs\\youtube-sentiment\\lib\\site-packages (from python-dateutil<3.0.0,>=2.1->botocore<1.41.0,>=1.40.55->boto3) (1.17.0)\n",
      "Downloading boto3-1.40.55-py3-none-any.whl (139 kB)\n",
      "Downloading botocore-1.40.55-py3-none-any.whl (14.1 MB)\n",
      "   ---------------------------------------- 0.0/14.1 MB ? eta -:--:--\n",
      "   --------- ------------------------------ 3.4/14.1 MB 18.3 MB/s eta 0:00:01\n",
      "   ------------------------- -------------- 9.2/14.1 MB 22.9 MB/s eta 0:00:01\n",
      "   ---------------------------------------- 14.1/14.1 MB 25.3 MB/s  0:00:00\n",
      "Downloading jmespath-1.0.1-py3-none-any.whl (20 kB)\n",
      "Downloading s3transfer-0.14.0-py3-none-any.whl (85 kB)\n",
      "Installing collected packages: jmespath, botocore, s3transfer, boto3\n",
      "\n",
      "   ---------- ----------------------------- 1/4 [botocore]\n",
      "   ---------- ----------------------------- 1/4 [botocore]\n",
      "   ---------- ----------------------------- 1/4 [botocore]\n",
      "   ---------- ----------------------------- 1/4 [botocore]\n",
      "   ---------- ----------------------------- 1/4 [botocore]\n",
      "   ---------- ----------------------------- 1/4 [botocore]\n",
      "   ---------- ----------------------------- 1/4 [botocore]\n",
      "   ---------- ----------------------------- 1/4 [botocore]\n",
      "   ---------- ----------------------------- 1/4 [botocore]\n",
      "   ---------- ----------------------------- 1/4 [botocore]\n",
      "   ---------- ----------------------------- 1/4 [botocore]\n",
      "   ---------- ----------------------------- 1/4 [botocore]\n",
      "   ---------- ----------------------------- 1/4 [botocore]\n",
      "   -------------------- ------------------- 2/4 [s3transfer]\n",
      "   -------------------- ------------------- 2/4 [s3transfer]\n",
      "   ------------------------------ --------- 3/4 [boto3]\n",
      "   ------------------------------ --------- 3/4 [boto3]\n",
      "   ---------------------------------------- 4/4 [boto3]\n",
      "\n",
      "Successfully installed boto3-1.40.55 botocore-1.40.55 jmespath-1.0.1 s3transfer-0.14.0\n"
     ]
    }
   ],
   "source": [
    "!pip install boto3"
   ]
  },
  {
   "cell_type": "code",
   "execution_count": 24,
   "id": "6e0f2deb",
   "metadata": {},
   "outputs": [
    {
     "name": "stdout",
     "output_type": "stream",
     "text": [
      "Collecting awscli\n",
      "  Downloading awscli-1.42.55-py3-none-any.whl.metadata (11 kB)\n",
      "Requirement already satisfied: botocore==1.40.55 in d:\\conda\\envs\\youtube-sentiment\\lib\\site-packages (from awscli) (1.40.55)\n",
      "Collecting docutils<=0.19,>=0.18.1 (from awscli)\n",
      "  Downloading docutils-0.19-py3-none-any.whl.metadata (2.7 kB)\n",
      "Requirement already satisfied: s3transfer<0.15.0,>=0.14.0 in d:\\conda\\envs\\youtube-sentiment\\lib\\site-packages (from awscli) (0.14.0)\n",
      "Requirement already satisfied: PyYAML<6.1,>=3.10 in d:\\conda\\envs\\youtube-sentiment\\lib\\site-packages (from awscli) (6.0.3)\n",
      "Requirement already satisfied: colorama<0.4.7,>=0.2.5 in d:\\conda\\envs\\youtube-sentiment\\lib\\site-packages (from awscli) (0.4.6)\n",
      "Collecting rsa<4.8,>=3.1.2 (from awscli)\n",
      "  Downloading rsa-4.7.2-py3-none-any.whl.metadata (3.6 kB)\n",
      "Requirement already satisfied: jmespath<2.0.0,>=0.7.1 in d:\\conda\\envs\\youtube-sentiment\\lib\\site-packages (from botocore==1.40.55->awscli) (1.0.1)\n",
      "Requirement already satisfied: python-dateutil<3.0.0,>=2.1 in d:\\conda\\envs\\youtube-sentiment\\lib\\site-packages (from botocore==1.40.55->awscli) (2.9.0.post0)\n",
      "Requirement already satisfied: urllib3!=2.2.0,<3,>=1.25.4 in d:\\conda\\envs\\youtube-sentiment\\lib\\site-packages (from botocore==1.40.55->awscli) (2.5.0)\n",
      "Requirement already satisfied: six>=1.5 in d:\\conda\\envs\\youtube-sentiment\\lib\\site-packages (from python-dateutil<3.0.0,>=2.1->botocore==1.40.55->awscli) (1.17.0)\n",
      "Requirement already satisfied: pyasn1>=0.1.3 in d:\\conda\\envs\\youtube-sentiment\\lib\\site-packages (from rsa<4.8,>=3.1.2->awscli) (0.6.1)\n",
      "Downloading awscli-1.42.55-py3-none-any.whl (4.7 MB)\n",
      "   ---------------------------------------- 0.0/4.7 MB ? eta -:--:--\n",
      "   -------------------- ------------------- 2.4/4.7 MB 14.9 MB/s eta 0:00:01\n",
      "   ---------------------------------------- 4.7/4.7 MB 16.6 MB/s  0:00:00\n",
      "Downloading docutils-0.19-py3-none-any.whl (570 kB)\n",
      "   ---------------------------------------- 0.0/570.5 kB ? eta -:--:--\n",
      "   ---------------------------------------- 570.5/570.5 kB 9.9 MB/s  0:00:00\n",
      "Downloading rsa-4.7.2-py3-none-any.whl (34 kB)\n",
      "Installing collected packages: rsa, docutils, awscli\n",
      "\n",
      "  Attempting uninstall: rsa\n",
      "\n",
      "    Found existing installation: rsa 4.9.1\n",
      "\n",
      "    Uninstalling rsa-4.9.1:\n",
      "\n",
      "   ---------------------------------------- 0/3 [rsa]\n",
      "   ---------------------------------------- 0/3 [rsa]\n",
      "      Successfully uninstalled rsa-4.9.1\n",
      "   ---------------------------------------- 0/3 [rsa]\n",
      "   ---------------------------------------- 0/3 [rsa]\n",
      "   ---------------------------------------- 0/3 [rsa]\n",
      "   ---------------------------------------- 0/3 [rsa]\n",
      "  Attempting uninstall: docutils\n",
      "   ---------------------------------------- 0/3 [rsa]\n",
      "    Found existing installation: docutils 0.22.2\n",
      "   ---------------------------------------- 0/3 [rsa]\n",
      "   ------------- -------------------------- 1/3 [docutils]\n",
      "    Uninstalling docutils-0.22.2:\n",
      "   ------------- -------------------------- 1/3 [docutils]\n",
      "   ------------- -------------------------- 1/3 [docutils]\n",
      "   ------------- -------------------------- 1/3 [docutils]\n",
      "   ------------- -------------------------- 1/3 [docutils]\n",
      "   ------------- -------------------------- 1/3 [docutils]\n",
      "      Successfully uninstalled docutils-0.22.2\n",
      "   ------------- -------------------------- 1/3 [docutils]\n",
      "   ------------- -------------------------- 1/3 [docutils]\n",
      "   ------------- -------------------------- 1/3 [docutils]\n",
      "   ------------- -------------------------- 1/3 [docutils]\n",
      "   ------------- -------------------------- 1/3 [docutils]\n",
      "   ------------- -------------------------- 1/3 [docutils]\n",
      "   ------------- -------------------------- 1/3 [docutils]\n",
      "   ------------- -------------------------- 1/3 [docutils]\n",
      "   ------------- -------------------------- 1/3 [docutils]\n",
      "   ------------- -------------------------- 1/3 [docutils]\n",
      "   ------------- -------------------------- 1/3 [docutils]\n",
      "   ------------- -------------------------- 1/3 [docutils]\n",
      "   -------------------------- ------------- 2/3 [awscli]\n",
      "   -------------------------- ------------- 2/3 [awscli]\n",
      "   -------------------------- ------------- 2/3 [awscli]\n",
      "   -------------------------- ------------- 2/3 [awscli]\n",
      "   -------------------------- ------------- 2/3 [awscli]\n",
      "   -------------------------- ------------- 2/3 [awscli]\n",
      "   -------------------------- ------------- 2/3 [awscli]\n",
      "   -------------------------- ------------- 2/3 [awscli]\n",
      "   -------------------------- ------------- 2/3 [awscli]\n",
      "   -------------------------- ------------- 2/3 [awscli]\n",
      "   -------------------------- ------------- 2/3 [awscli]\n",
      "   -------------------------- ------------- 2/3 [awscli]\n",
      "   -------------------------- ------------- 2/3 [awscli]\n",
      "   -------------------------- ------------- 2/3 [awscli]\n",
      "   -------------------------- ------------- 2/3 [awscli]\n",
      "   -------------------------- ------------- 2/3 [awscli]\n",
      "   -------------------------- ------------- 2/3 [awscli]\n",
      "   -------------------------- ------------- 2/3 [awscli]\n",
      "   -------------------------- ------------- 2/3 [awscli]\n",
      "   -------------------------- ------------- 2/3 [awscli]\n",
      "   -------------------------- ------------- 2/3 [awscli]\n",
      "   -------------------------- ------------- 2/3 [awscli]\n",
      "   -------------------------- ------------- 2/3 [awscli]\n",
      "   -------------------------- ------------- 2/3 [awscli]\n",
      "   -------------------------- ------------- 2/3 [awscli]\n",
      "   -------------------------- ------------- 2/3 [awscli]\n",
      "   -------------------------- ------------- 2/3 [awscli]\n",
      "   -------------------------- ------------- 2/3 [awscli]\n",
      "   -------------------------- ------------- 2/3 [awscli]\n",
      "   -------------------------- ------------- 2/3 [awscli]\n",
      "   -------------------------- ------------- 2/3 [awscli]\n",
      "   -------------------------- ------------- 2/3 [awscli]\n",
      "   -------------------------- ------------- 2/3 [awscli]\n",
      "   -------------------------- ------------- 2/3 [awscli]\n",
      "   -------------------------- ------------- 2/3 [awscli]\n",
      "   -------------------------- ------------- 2/3 [awscli]\n",
      "   -------------------------- ------------- 2/3 [awscli]\n",
      "   ---------------------------------------- 3/3 [awscli]\n",
      "\n",
      "Successfully installed awscli-1.42.55 docutils-0.19 rsa-4.7.2\n"
     ]
    }
   ],
   "source": [
    "!pip install awscli"
   ]
  },
  {
   "cell_type": "code",
   "execution_count": null,
   "id": "17c64b6d",
   "metadata": {},
   "outputs": [],
   "source": [
    "!aws configure"
   ]
  },
  {
   "cell_type": "code",
   "execution_count": 27,
   "id": "e74e69ce",
   "metadata": {},
   "outputs": [
    {
     "name": "stderr",
     "output_type": "stream",
     "text": [
      "2025/10/20 14:06:13 WARNING mlflow.models.model: `artifact_path` is deprecated. Please use `name` instead.\n",
      "2025/10/20 14:06:29 WARNING mlflow.models.model: Model logged without a signature and input example. Please set `input_example` parameter when logging the model to auto infer the model signature.\n"
     ]
    },
    {
     "name": "stdout",
     "output_type": "stream",
     "text": [
      "🏃 View run RandomForest_Baseline_TrainTestSplit at: http://ec2-54-219-82-206.us-west-1.compute.amazonaws.com:5000/#/experiments/1/runs/af285c7b81214603b5bcfcf770f55be3\n",
      "🧪 View experiment at: http://ec2-54-219-82-206.us-west-1.compute.amazonaws.com:5000/#/experiments/1\n",
      "Accuracy: 0.6479141187661367\n"
     ]
    },
    {
     "data": {
      "image/png": "[encoded data removed]",
      "text/plain": [
       "<Figure size 800x600 with 2 Axes>"
      ]
     },
     "metadata": {},
     "output_type": "display_data"
    }
   ],
   "source": [
    "# Step 1: Split the data into training and testing sets (80% train, 20% test)\n",
    "X_train, X_test, y_train, y_test = train_test_split(X, y, test_size=0.2, random_state=42, stratify=y)\n",
    "\n",
    "# Step 2: Define and train a Random Forest baseline model using a simple train-test split\n",
    "with mlflow.start_run() as run:\n",
    "    # Log a description for the run\n",
    "    mlflow.set_tag(\"mlflow.runName\", \"RandomForest_Baseline_TrainTestSplit\")\n",
    "    mlflow.set_tag(\"experiment_type\", \"baseline\")\n",
    "    mlflow.set_tag(\"model_type\", \"RandomForestClassifier\")\n",
    "\n",
    "    # Add a description\n",
    "    mlflow.set_tag(\"description\", \"Baseline RandomForest model for sentiment analysis using Bag of Words (BoW) with a simple train-test split\")\n",
    "\n",
    "    # Log parameters for the vectorizer\n",
    "    mlflow.log_param(\"vectorizer_type\", \"CountVectorizer\")\n",
    "    mlflow.log_param(\"vectorizer_max_features\", vectorizer.max_features)\n",
    "\n",
    "    # Log Random Forest parameters\n",
    "    n_estimators = 200\n",
    "    max_depth = 15\n",
    "\n",
    "    mlflow.log_param(\"n_estimators\", n_estimators)\n",
    "    mlflow.log_param(\"max_depth\", max_depth)\n",
    "\n",
    "    # Initialize and train the model\n",
    "    model = RandomForestClassifier(n_estimators=n_estimators, max_depth=max_depth, random_state=42)\n",
    "    model.fit(X_train, y_train)\n",
    "\n",
    "    # Make predictions on the test set\n",
    "    y_pred = model.predict(X_test)\n",
    "\n",
    "    # Log metrics for each class and accuracy\n",
    "    accuracy = accuracy_score(y_test, y_pred)\n",
    "    mlflow.log_metric(\"accuracy\", accuracy)\n",
    "\n",
    "    classification_rep = classification_report(y_test, y_pred, output_dict=True)\n",
    "\n",
    "    for label, metrics in classification_rep.items():\n",
    "        if isinstance(metrics, dict):  # For precision, recall, f1-score, etc.\n",
    "            for metric, value in metrics.items():\n",
    "                mlflow.log_metric(f\"{label}_{metric}\", value)\n",
    "\n",
    "    # Confusion matrix plot\n",
    "    conf_matrix = confusion_matrix(y_test, y_pred)\n",
    "    plt.figure(figsize=(8, 6))\n",
    "    sns.heatmap(conf_matrix, annot=True, fmt=\"d\", cmap=\"Blues\")\n",
    "    plt.xlabel(\"Predicted\")\n",
    "    plt.ylabel(\"Actual\")\n",
    "    plt.title(\"Confusion Matrix\")\n",
    "\n",
    "    # Save and log the confusion matrix plot\n",
    "    plt.savefig(\"confusion_matrix.png\")\n",
    "    mlflow.log_artifact(\"confusion_matrix.png\")\n",
    "\n",
    "    # Log the Random Forest model\n",
    "    mlflow.sklearn.log_model(model, \"random_forest_model\")\n",
    "\n",
    "    # Optionally log the dataset itself (if it's small enough)\n",
    "    df.to_csv(\"dataset.csv\", index=False)\n",
    "    mlflow.log_artifact(\"dataset.csv\")\n",
    "\n",
    "# Display final accuracy\n",
    "print(f\"Accuracy: {accuracy}\")"
   ]
  },
  {
   "cell_type": "code",
   "execution_count": 28,
   "id": "5e4b0d3b",
   "metadata": {},
   "outputs": [
    {
     "name": "stdout",
     "output_type": "stream",
     "text": [
      "              precision    recall  f1-score   support\n",
      "\n",
      "          -1       1.00      0.01      0.02      1650\n",
      "           0       0.68      0.81      0.74      2555\n",
      "           1       0.62      0.85      0.72      3154\n",
      "\n",
      "    accuracy                           0.65      7359\n",
      "   macro avg       0.77      0.56      0.49      7359\n",
      "weighted avg       0.73      0.65      0.57      7359\n",
      "\n"
     ]
    }
   ],
   "source": [
    "print(classification_report(y_test, y_pred))"
   ]
  },
  {
   "cell_type": "code",
   "execution_count": 29,
   "id": "d75b0dc4",
   "metadata": {},
   "outputs": [],
   "source": [
    "df.to_csv('reddit_preprocessing.csv', index=False)"
   ]
  },
  {
   "cell_type": "code",
   "execution_count": 30,
   "id": "c08ded94",
   "metadata": {},
   "outputs": [
    {
     "data": {
      "text/html": [
       "<div>\n",
       "<style scoped>\n",
       "    .dataframe tbody tr th:only-of-type {\n",
       "        vertical-align: middle;\n",
       "    }\n",
       "\n",
       "    .dataframe tbody tr th {\n",
       "        vertical-align: top;\n",
       "    }\n",
       "\n",
       "    .dataframe thead th {\n",
       "        text-align: right;\n",
       "    }\n",
       "</style>\n",
       "<table border=\"1\" class=\"dataframe\">\n",
       "  <thead>\n",
       "    <tr style=\"text-align: right;\">\n",
       "      <th></th>\n",
       "      <th>clean_comment</th>\n",
       "      <th>category</th>\n",
       "    </tr>\n",
       "  </thead>\n",
       "  <tbody>\n",
       "    <tr>\n",
       "      <th>0</th>\n",
       "      <td>family mormon never tried explain still stare ...</td>\n",
       "      <td>1</td>\n",
       "    </tr>\n",
       "    <tr>\n",
       "      <th>1</th>\n",
       "      <td>buddhism much lot compatible christianity espe...</td>\n",
       "      <td>1</td>\n",
       "    </tr>\n",
       "    <tr>\n",
       "      <th>2</th>\n",
       "      <td>seriously say thing first get complex explain ...</td>\n",
       "      <td>-1</td>\n",
       "    </tr>\n",
       "    <tr>\n",
       "      <th>3</th>\n",
       "      <td>learned want teach different focus goal not wr...</td>\n",
       "      <td>0</td>\n",
       "    </tr>\n",
       "    <tr>\n",
       "      <th>4</th>\n",
       "      <td>benefit may want read living buddha living chr...</td>\n",
       "      <td>1</td>\n",
       "    </tr>\n",
       "  </tbody>\n",
       "</table>\n",
       "</div>"
      ],
      "text/plain": [
       "                                       clean_comment  category\n",
       "0  family mormon never tried explain still stare ...         1\n",
       "1  buddhism much lot compatible christianity espe...         1\n",
       "2  seriously say thing first get complex explain ...        -1\n",
       "3  learned want teach different focus goal not wr...         0\n",
       "4  benefit may want read living buddha living chr...         1"
      ]
     },
     "execution_count": 30,
     "metadata": {},
     "output_type": "execute_result"
    }
   ],
   "source": [
    "pd.read_csv('reddit_preprocessing.csv').head()"
   ]
  }
 ],
 "metadata": {
  "kernelspec": {
   "display_name": "youtube-sentiment",
   "language": "python",
   "name": "python3"
  },
  "language_info": {
   "codemirror_mode": {
    "name": "ipython",
    "version": 3
   },
   "file_extension": ".py",
   "mimetype": "text/x-python",
   "name": "python",
   "nbconvert_exporter": "python",
   "pygments_lexer": "ipython3",
   "version": "3.10.18"
  }
 },
 "nbformat": 4,
 "nbformat_minor": 5
}
